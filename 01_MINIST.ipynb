{
  "nbformat": 4,
  "nbformat_minor": 0,
  "metadata": {
    "colab": {
      "provenance": [],
      "authorship_tag": "ABX9TyNCUbEfOnFG1Y2dBteRlsVb",
      "include_colab_link": true
    },
    "kernelspec": {
      "name": "python3",
      "display_name": "Python 3"
    },
    "language_info": {
      "name": "python"
    }
  },
  "cells": [
    {
      "cell_type": "markdown",
      "metadata": {
        "id": "view-in-github",
        "colab_type": "text"
      },
      "source": [
        "<a href=\"https://colab.research.google.com/github/AluminumShark/2024_Deep_Learning_with_Pytorch/blob/main/01_MINIST.ipynb\" target=\"_parent\"><img src=\"https://colab.research.google.com/assets/colab-badge.svg\" alt=\"Open In Colab\"/></a>"
      ]
    },
    {
      "cell_type": "code",
      "source": [
        "# Import Modules\n",
        "\n",
        "import torch\n",
        "import torch.nn as nn\n",
        "import torchvision\n",
        "import torchvision.transforms as transforms\n",
        "from torchvision.datasets import MNIST\n",
        "from torch.utils.data import DataLoader\n",
        "import numpy as np\n",
        "torch.manual_seed(681520)"
      ],
      "metadata": {
        "id": "UGWrsUFK1R9G",
        "outputId": "1aef1e13-c68e-4c2a-9a24-f41edd998bf3",
        "colab": {
          "base_uri": "https://localhost:8080/"
        }
      },
      "execution_count": 4,
      "outputs": [
        {
          "output_type": "execute_result",
          "data": {
            "text/plain": [
              "<torch._C.Generator at 0x7916c12c9930>"
            ]
          },
          "metadata": {},
          "execution_count": 4
        }
      ]
    },
    {
      "cell_type": "code",
      "source": [
        "device = torch.device('cuda' if torch.cuda.is_available() else 'cpu')\n",
        "EPOCHS = 20\n",
        "BATCH_SIZE = 128\n",
        "lr = 0.001"
      ],
      "metadata": {
        "id": "XKprdjUy2g-h"
      },
      "execution_count": 24,
      "outputs": []
    },
    {
      "cell_type": "code",
      "source": [
        "# Load and Normalize Datasets\n",
        "\n",
        "trainset = MNIST(root='./data', train=True, transform=transforms.ToTensor(), download=True)\n",
        "train_loader = DataLoader(dataset=trainset, batch_size=len(trainset), shuffle=True)\n",
        "\n",
        "data = next(iter(train_loader))\n",
        "\n",
        "mean = data[0].mean()\n",
        "std = data[0].std()\n",
        "\n",
        "transform = transforms.Compose([transforms.ToTensor(), transforms.Normalize(mean, std)])\n",
        "\n",
        "trainset = MNIST(root='./data', train=True, transform=transform, download=True)\n",
        "testset = MNIST(root='./data', train=True, transform=transform, download=True)"
      ],
      "metadata": {
        "id": "GX3OFZ5w21Yq"
      },
      "execution_count": 8,
      "outputs": []
    },
    {
      "cell_type": "code",
      "source": [
        "# Creat a Sequential Model\n",
        "\n",
        "model = nn.Sequential(\n",
        "    nn.Flatten(),\n",
        "\n",
        "    nn.Linear(28*28, 25),\n",
        "    nn.Dropout(0.2),\n",
        "    nn.ReLU(),\n",
        "\n",
        "    nn.Linear(25, 10),\n",
        "    nn.Dropout(0.2),\n",
        "    nn.ReLU()\n",
        "\n",
        ")\n",
        "\n",
        "for module in model.modules():\n",
        "    if isinstance(module, nn.Linear):\n",
        "        nn.init.kaiming_uniform_(module.weight, nonlinearity='relu')\n",
        "        nn.init.constant_(module.bias, 0)"
      ],
      "metadata": {
        "id": "9kvWgWws6U7-"
      },
      "execution_count": 11,
      "outputs": []
    },
    {
      "cell_type": "code",
      "source": [
        "optimizer = torch.optim.Adam(model.parameters(), lr)\n",
        "loss_fn = nn.CrossEntropyLoss()\n",
        "\n",
        "model.to(device)\n",
        "\n",
        "train_loader = DataLoader(trainset, batch_size=BATCH_SIZE, shuffle=True)\n",
        "test_loader = DataLoader(testset, batch_size=BATCH_SIZE, shuffle=True)\n",
        "\n",
        "\n",
        "for i in range(EPOCHS):\n",
        "  model.train()\n",
        "  train_loss = 0.0\n",
        "  train_acc = 0\n",
        "  train_batches = 0\n",
        "\n",
        "  # Start Training\n",
        "\n",
        "  for inputs, targets in train_loader:\n",
        "    one_hot_targets = nn.functional.one_hot(targets, num_classes=10).float()\n",
        "    inputs, targets, one_hot_targets = inputs.to(device), targets.to(device), one_hot_targets.to(device)\n",
        "\n",
        "    optimizer.zero_grad()\n",
        "\n",
        "    # Forward pass\n",
        "    outputs = model(inputs)\n",
        "    loss = loss_fn(outputs, one_hot_targets)\n",
        "\n",
        "    # Caculate Accuracy\n",
        "    _, predicted = torch.max(outputs.data, 1)\n",
        "    train_acc += (predicted == targets).sum().item()\n",
        "    train_batches += 1\n",
        "    train_loss += loss.item()\n",
        "\n",
        "    # Backward pass and Update\n",
        "    loss.backward()\n",
        "    optimizer.step()\n",
        "\n",
        "  train_loss /= train_batches\n",
        "  train_acc /= train_batches*BATCH_SIZE\n",
        "\n",
        "  # Evaluate Model\n",
        "\n",
        "  model.eval()\n",
        "  test_loss = 0.0\n",
        "  test_acc = 0\n",
        "  test_batches = 0\n",
        "\n",
        "  for inputs, targets in test_loader:\n",
        "    one_hot_targets = nn.functional.one_hot(targets, num_classes=10).float()\n",
        "    inputs, targets, one_hot_targets = inputs.to(device), targets.to(device), one_hot_targets.to(device)\n",
        "\n",
        "    # Forward pass\n",
        "    outputs = model(inputs)\n",
        "    loss = loss_fn(outputs, one_hot_targets)\n",
        "\n",
        "    # Calculate Accuracy\n",
        "    _, predicted = torch.max(outputs.data, 1)\n",
        "    test_acc += (predicted == targets).sum().item()\n",
        "    test_batches += 1\n",
        "    test_loss += loss.item()\n",
        "\n",
        "  test_loss /= test_batches\n",
        "  test_acc /= test_batches*BATCH_SIZE\n",
        "\n",
        "  print(f'Epoch {i+1}/{EPOCHS} loss: {train_loss:.4f} - acc: {train_acc:0.4f} - val_loss: {test_loss:.4f} - val_acc: {test_acc:0.4f}')"
      ],
      "metadata": {
        "id": "ukS9nur1F1sw",
        "outputId": "e1415bfa-1970-4de4-87e9-d0e8e1dcbb9a",
        "colab": {
          "base_uri": "https://localhost:8080/"
        }
      },
      "execution_count": 23,
      "outputs": [
        {
          "output_type": "stream",
          "name": "stdout",
          "text": [
            "Epoch 1/20 loss: 0.9262 - acc: 0.6959 - val_loss: 0.3666 - val_acc: 0.9286\n",
            "Epoch 2/20 loss: 0.8669 - acc: 0.7173 - val_loss: 0.3342 - val_acc: 0.9320\n",
            "Epoch 3/20 loss: 0.8291 - acc: 0.7302 - val_loss: 0.2941 - val_acc: 0.9352\n",
            "Epoch 4/20 loss: 0.7987 - acc: 0.7393 - val_loss: 0.2875 - val_acc: 0.9394\n",
            "Epoch 5/20 loss: 0.7923 - acc: 0.7384 - val_loss: 0.2707 - val_acc: 0.9409\n",
            "Epoch 6/20 loss: 0.7806 - acc: 0.7423 - val_loss: 0.2621 - val_acc: 0.9444\n",
            "Epoch 7/20 loss: 0.7725 - acc: 0.7437 - val_loss: 0.2724 - val_acc: 0.9421\n",
            "Epoch 8/20 loss: 0.7658 - acc: 0.7475 - val_loss: 0.2567 - val_acc: 0.9455\n",
            "Epoch 9/20 loss: 0.7593 - acc: 0.7480 - val_loss: 0.2562 - val_acc: 0.9463\n",
            "Epoch 10/20 loss: 0.7592 - acc: 0.7493 - val_loss: 0.2465 - val_acc: 0.9489\n",
            "Epoch 11/20 loss: 0.7475 - acc: 0.7522 - val_loss: 0.2366 - val_acc: 0.9487\n",
            "Epoch 12/20 loss: 0.7476 - acc: 0.7517 - val_loss: 0.2281 - val_acc: 0.9497\n",
            "Epoch 13/20 loss: 0.7411 - acc: 0.7541 - val_loss: 0.2284 - val_acc: 0.9511\n",
            "Epoch 14/20 loss: 0.7355 - acc: 0.7553 - val_loss: 0.2240 - val_acc: 0.9521\n",
            "Epoch 15/20 loss: 0.7291 - acc: 0.7575 - val_loss: 0.2223 - val_acc: 0.9534\n",
            "Epoch 16/20 loss: 0.7362 - acc: 0.7557 - val_loss: 0.2231 - val_acc: 0.9531\n",
            "Epoch 17/20 loss: 0.7291 - acc: 0.7589 - val_loss: 0.2208 - val_acc: 0.9547\n",
            "Epoch 18/20 loss: 0.7304 - acc: 0.7572 - val_loss: 0.2172 - val_acc: 0.9535\n",
            "Epoch 19/20 loss: 0.7202 - acc: 0.7589 - val_loss: 0.2151 - val_acc: 0.9538\n",
            "Epoch 20/20 loss: 0.7189 - acc: 0.7616 - val_loss: 0.2159 - val_acc: 0.9565\n"
          ]
        }
      ]
    }
  ]
}