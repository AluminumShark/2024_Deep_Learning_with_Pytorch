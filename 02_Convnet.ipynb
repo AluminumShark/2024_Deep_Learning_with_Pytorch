{
  "nbformat": 4,
  "nbformat_minor": 0,
  "metadata": {
    "colab": {
      "provenance": [],
      "authorship_tag": "ABX9TyPtDJ2Miw9CLRM/mZv4bqTc",
      "include_colab_link": true
    },
    "kernelspec": {
      "name": "python3",
      "display_name": "Python 3"
    },
    "language_info": {
      "name": "python"
    }
  },
  "cells": [
    {
      "cell_type": "markdown",
      "metadata": {
        "id": "view-in-github",
        "colab_type": "text"
      },
      "source": [
        "<a href=\"https://colab.research.google.com/github/AluminumShark/2024_Deep_Learning_with_Pytorch/blob/main/02_Convnet.ipynb\" target=\"_parent\"><img src=\"https://colab.research.google.com/assets/colab-badge.svg\" alt=\"Open In Colab\"/></a>"
      ]
    },
    {
      "cell_type": "code",
      "execution_count": 12,
      "metadata": {
        "id": "miG9jo5w8x3K"
      },
      "outputs": [],
      "source": [
        "import torch\n",
        "import torch.nn as nn\n",
        "import torchvision\n",
        "import torchvision.transforms as transforms\n",
        "from torchvision.datasets import CIFAR10\n",
        "from torch.utils.data import DataLoader\n",
        "import numpy as np"
      ]
    },
    {
      "cell_type": "code",
      "source": [
        "device = torch.device('cuda' if torch.cuda.is_available() else 'cpu')\n",
        "print(f'DEVICE: {device}')\n",
        "\n",
        "EPOCHS = 128\n",
        "BATCH_SIZE = 32\n",
        "LEARNING_RATE = 0.01\n",
        "\n",
        "print(f'EPOCHS: {EPOCHS}')\n",
        "print(f'BATCH_SIZE: {BATCH_SIZE}')\n",
        "print(f'LEARNING_RATE: {LEARNING_RATE}')"
      ],
      "metadata": {
        "colab": {
          "base_uri": "https://localhost:8080/"
        },
        "id": "b9rneRKJB-xs",
        "outputId": "8f15d3b9-427a-4271-c606-d5fcff708448"
      },
      "execution_count": 8,
      "outputs": [
        {
          "output_type": "stream",
          "name": "stdout",
          "text": [
            "USING: cpu\n",
            "EPOCHS: 128\n",
            "BATCH_SIZE: 32\n",
            "LEARNING_RATE: 0.01\n"
          ]
        }
      ]
    },
    {
      "cell_type": "code",
      "source": [
        "# Load training into a single batch to compute mean and std\n",
        "\n",
        "trainset = CIFAR10(root='./data', train=True, download=True, transform=transforms.ToTensor())\n",
        "\n",
        "trainloader = DataLoader(trainset, batch_size=len(trainset), shuffle=False)\n",
        "\n",
        "data = next(iter(trainloader))\n",
        "\n",
        "mean = data[0].mean()\n",
        "std = data[0].std()\n",
        "\n",
        "transform = transforms.Compose([\n",
        "    transforms.ToTensor(),\n",
        "    transforms.Normalize(mean, std)\n",
        "])\n",
        "\n",
        "trainset = CIFAR10(root='./data', train=True, download=True, transform=transform)\n",
        "testset = CIFAR10(root='./data', train=False, download=True, transform=transform)"
      ],
      "metadata": {
        "colab": {
          "base_uri": "https://localhost:8080/"
        },
        "id": "6lkg0zWiCPY8",
        "outputId": "51e88de8-bdf3-444c-956f-fc2ca1b378f3"
      },
      "execution_count": 11,
      "outputs": [
        {
          "output_type": "stream",
          "name": "stdout",
          "text": [
            "Files already downloaded and verified\n",
            "Files already downloaded and verified\n",
            "Files already downloaded and verified\n"
          ]
        }
      ]
    },
    {
      "cell_type": "code",
      "source": [
        "# Create a Sequential Model\n",
        "\n",
        "model = nn.Sequential(\n",
        "    nn.Conv2d(3, 64, 5, stride=2, padding='same'),\n",
        "    nn.BatchNorm2d(64),\n",
        "    nn.ReLU(),\n",
        "\n",
        "    nn.Conv2d(64, 64, 3, stride=2, padding='same'),\n",
        "    nn.BatchNorm2d(64),\n",
        "    nn.ReLU()\n",
        "\n",
        ")"
      ],
      "metadata": {
        "id": "U5pqtHFZFoE3"
      },
      "execution_count": null,
      "outputs": []
    }
  ]
}