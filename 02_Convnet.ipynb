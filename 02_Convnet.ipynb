{
  "cells": [
    {
      "cell_type": "markdown",
      "metadata": {
        "id": "view-in-github",
        "colab_type": "text"
      },
      "source": [
        "<a href=\"https://colab.research.google.com/github/AluminumShark/2024_Deep_Learning_with_Pytorch/blob/main/02_Convnet.ipynb\" target=\"_parent\"><img src=\"https://colab.research.google.com/assets/colab-badge.svg\" alt=\"Open In Colab\"/></a>"
      ]
    },
    {
      "cell_type": "code",
      "execution_count": null,
      "metadata": {
        "id": "miG9jo5w8x3K"
      },
      "outputs": [],
      "source": [
        "import torch\n",
        "import torch.nn as nn\n",
        "import torchvision\n",
        "import torchvision.transforms as transforms\n",
        "from torchvision.datasets import CIFAR10\n",
        "from torch.utils.data import DataLoader\n",
        "import numpy as np"
      ]
    },
    {
      "cell_type": "code",
      "execution_count": null,
      "metadata": {
        "colab": {
          "base_uri": "https://localhost:8080/"
        },
        "id": "b9rneRKJB-xs",
        "outputId": "2af735b9-8983-4a4b-b39d-a91cc031b0dd"
      },
      "outputs": [
        {
          "name": "stdout",
          "output_type": "stream",
          "text": [
            "DEVICE: cpu\n",
            "EPOCHS: 128\n",
            "BATCH_SIZE: 32\n",
            "LEARNING_RATE: 0.01\n"
          ]
        }
      ],
      "source": [
        "device = torch.device('cuda' if torch.cuda.is_available() else 'cpu')\n",
        "print(f'DEVICE: {device}')\n",
        "\n",
        "EPOCHS = 128\n",
        "BATCH_SIZE = 32\n",
        "LEARNING_RATE = 0.01\n",
        "\n",
        "print(f'EPOCHS: {EPOCHS}')\n",
        "print(f'BATCH_SIZE: {BATCH_SIZE}')\n",
        "print(f'LEARNING_RATE: {LEARNING_RATE}')"
      ]
    },
    {
      "cell_type": "code",
      "execution_count": null,
      "metadata": {
        "colab": {
          "base_uri": "https://localhost:8080/"
        },
        "id": "6lkg0zWiCPY8",
        "outputId": "121cdc39-9a04-4727-8cc3-343c608b4ba6"
      },
      "outputs": [
        {
          "name": "stdout",
          "output_type": "stream",
          "text": [
            "Downloading https://www.cs.toronto.edu/~kriz/cifar-10-python.tar.gz to ./data/cifar-10-python.tar.gz\n"
          ]
        },
        {
          "name": "stderr",
          "output_type": "stream",
          "text": [
            "100%|██████████| 170M/170M [00:06<00:00, 26.2MB/s]\n"
          ]
        },
        {
          "name": "stdout",
          "output_type": "stream",
          "text": [
            "Extracting ./data/cifar-10-python.tar.gz to ./data\n",
            "Files already downloaded and verified\n",
            "Files already downloaded and verified\n"
          ]
        }
      ],
      "source": [
        "# Load training into a single batch to compute mean and std\n",
        "\n",
        "trainset = CIFAR10(root='./data', train=True, download=True, transform=transforms.ToTensor())\n",
        "\n",
        "trainloader = DataLoader(trainset, batch_size=len(trainset), shuffle=False)\n",
        "\n",
        "data = next(iter(trainloader))\n",
        "\n",
        "mean = data[0].mean()\n",
        "std = data[0].std()\n",
        "\n",
        "transform = transforms.Compose([\n",
        "    transforms.ToTensor(),\n",
        "    transforms.Normalize(mean, std)\n",
        "])\n",
        "\n",
        "trainset = CIFAR10(root='./data', train=True, download=True, transform=transform)\n",
        "testset = CIFAR10(root='./data', train=False, download=True, transform=transform)"
      ]
    },
    {
      "cell_type": "code",
      "execution_count": null,
      "metadata": {
        "id": "U5pqtHFZFoE3"
      },
      "outputs": [],
      "source": [
        "model = nn.Sequential(\n",
        "    nn.Conv2d(3, 64, 5, stride=2, padding=2),\n",
        "    nn.BatchNorm2d(64),\n",
        "    nn.ReLU(),\n",
        "\n",
        "    nn.Conv2d(64, 64, 3, stride=2, padding=1),\n",
        "    nn.BatchNorm2d(64),\n",
        "    nn.ReLU(),\n",
        "\n",
        "    nn.Flatten(),\n",
        "    nn.Linear(64 * 8 * 8, 10)\n",
        ")\n",
        "\n",
        "conv_layer0 = model[0]\n",
        "conv_layer1 = model[3]\n",
        "output_layer = model[7]\n",
        "\n",
        "# Initialize weights and biases\n",
        "nn.init.kaiming_normal_(conv_layer0.weight)\n",
        "nn.init.constant_(conv_layer0.bias, 0.0)\n",
        "nn.init.kaiming_normal_(conv_layer1.weight)\n",
        "nn.init.constant_(conv_layer1.bias, 0.0)\n",
        "nn.init.xavier_uniform_(output_layer.weight)\n",
        "nn.init.constant_(output_layer.bias, 0.0)\n",
        "\n",
        "\n",
        "optimizer = torch.optim.Adam(model.parameters())\n",
        "loss_fn = nn.CrossEntropyLoss()"
      ]
    },
    {
      "cell_type": "code",
      "execution_count": null,
      "metadata": {
        "colab": {
          "background_save": true,
          "base_uri": "https://localhost:8080/"
        },
        "id": "9rWU_IHVTM8_",
        "outputId": "51794351-0b02-4da5-d8ae-074b8fcd410c"
      },
      "outputs": [
        {
          "name": "stdout",
          "output_type": "stream",
          "text": [
            "Epoch 1/128, Loss: 1.4027, Accuracy: 50.89%\n",
            "Test Loss: 1.1119, Test Accuracy: 60.28%\n",
            "Epoch 2/128, Loss: 1.0253, Accuracy: 64.12%\n",
            "Test Loss: 1.0090, Test Accuracy: 65.22%\n",
            "Epoch 3/128, Loss: 0.8792, Accuracy: 69.45%\n",
            "Test Loss: 0.9446, Test Accuracy: 68.21%\n",
            "Epoch 4/128, Loss: 0.7851, Accuracy: 72.83%\n",
            "Test Loss: 1.0001, Test Accuracy: 66.33%\n",
            "Epoch 5/128, Loss: 0.7078, Accuracy: 75.54%\n",
            "Test Loss: 0.9283, Test Accuracy: 68.42%\n",
            "Epoch 6/128, Loss: 0.6475, Accuracy: 77.75%\n",
            "Test Loss: 0.9713, Test Accuracy: 67.76%\n",
            "Epoch 7/128, Loss: 0.5928, Accuracy: 79.61%\n",
            "Test Loss: 0.9433, Test Accuracy: 69.25%\n",
            "Epoch 8/128, Loss: 0.5486, Accuracy: 80.95%\n",
            "Test Loss: 1.0105, Test Accuracy: 68.27%\n",
            "Epoch 9/128, Loss: 0.5064, Accuracy: 82.42%\n",
            "Test Loss: 1.0114, Test Accuracy: 67.80%\n",
            "Epoch 10/128, Loss: 0.4688, Accuracy: 83.70%\n",
            "Test Loss: 1.0305, Test Accuracy: 68.18%\n",
            "Epoch 11/128, Loss: 0.4305, Accuracy: 84.89%\n",
            "Test Loss: 1.0912, Test Accuracy: 67.80%\n",
            "Epoch 12/128, Loss: 0.4056, Accuracy: 85.63%\n",
            "Test Loss: 1.1193, Test Accuracy: 67.44%\n",
            "Epoch 13/128, Loss: 0.3752, Accuracy: 87.04%\n",
            "Test Loss: 1.1821, Test Accuracy: 66.92%\n",
            "Epoch 14/128, Loss: 0.3538, Accuracy: 87.56%\n",
            "Test Loss: 1.1784, Test Accuracy: 68.15%\n",
            "Epoch 15/128, Loss: 0.3314, Accuracy: 88.35%\n",
            "Test Loss: 1.2372, Test Accuracy: 67.27%\n",
            "Epoch 16/128, Loss: 0.3106, Accuracy: 88.93%\n",
            "Test Loss: 1.2678, Test Accuracy: 67.15%\n",
            "Epoch 17/128, Loss: 0.2895, Accuracy: 89.82%\n",
            "Test Loss: 1.3039, Test Accuracy: 67.67%\n",
            "Epoch 18/128, Loss: 0.2721, Accuracy: 90.27%\n",
            "Test Loss: 1.3587, Test Accuracy: 67.07%\n",
            "Epoch 19/128, Loss: 0.2602, Accuracy: 90.78%\n",
            "Test Loss: 1.4067, Test Accuracy: 66.75%\n",
            "Epoch 20/128, Loss: 0.2448, Accuracy: 91.27%\n",
            "Test Loss: 1.4720, Test Accuracy: 65.99%\n",
            "Epoch 21/128, Loss: 0.2280, Accuracy: 91.81%\n",
            "Test Loss: 1.5157, Test Accuracy: 66.31%\n",
            "Epoch 22/128, Loss: 0.2150, Accuracy: 92.29%\n",
            "Test Loss: 1.4949, Test Accuracy: 67.02%\n",
            "Epoch 23/128, Loss: 0.2026, Accuracy: 92.69%\n",
            "Test Loss: 1.6294, Test Accuracy: 66.08%\n",
            "Epoch 24/128, Loss: 0.1950, Accuracy: 93.02%\n",
            "Test Loss: 1.6085, Test Accuracy: 66.54%\n",
            "Epoch 25/128, Loss: 0.1849, Accuracy: 93.43%\n",
            "Test Loss: 1.6341, Test Accuracy: 66.41%\n",
            "Epoch 26/128, Loss: 0.1760, Accuracy: 93.72%\n",
            "Test Loss: 1.6751, Test Accuracy: 66.22%\n",
            "Epoch 27/128, Loss: 0.1670, Accuracy: 94.07%\n",
            "Test Loss: 1.7562, Test Accuracy: 66.05%\n",
            "Epoch 28/128, Loss: 0.1627, Accuracy: 94.16%\n",
            "Test Loss: 1.8025, Test Accuracy: 65.61%\n",
            "Epoch 29/128, Loss: 0.1530, Accuracy: 94.54%\n",
            "Test Loss: 1.8431, Test Accuracy: 65.97%\n",
            "Epoch 30/128, Loss: 0.1501, Accuracy: 94.63%\n",
            "Test Loss: 1.8883, Test Accuracy: 65.88%\n",
            "Epoch 31/128, Loss: 0.1461, Accuracy: 94.72%\n",
            "Test Loss: 1.8979, Test Accuracy: 65.39%\n",
            "Epoch 32/128, Loss: 0.1380, Accuracy: 95.08%\n",
            "Test Loss: 1.9679, Test Accuracy: 66.09%\n",
            "Epoch 33/128, Loss: 0.1320, Accuracy: 95.22%\n",
            "Test Loss: 2.0366, Test Accuracy: 64.89%\n",
            "Epoch 34/128, Loss: 0.1270, Accuracy: 95.44%\n",
            "Test Loss: 2.0613, Test Accuracy: 66.06%\n",
            "Epoch 35/128, Loss: 0.1260, Accuracy: 95.48%\n",
            "Test Loss: 2.0692, Test Accuracy: 66.23%\n",
            "Epoch 36/128, Loss: 0.1184, Accuracy: 95.77%\n",
            "Test Loss: 2.1232, Test Accuracy: 65.68%\n",
            "Epoch 37/128, Loss: 0.1182, Accuracy: 95.69%\n",
            "Test Loss: 2.1226, Test Accuracy: 65.72%\n",
            "Epoch 38/128, Loss: 0.1152, Accuracy: 95.86%\n",
            "Test Loss: 2.1985, Test Accuracy: 65.41%\n",
            "Epoch 39/128, Loss: 0.1115, Accuracy: 95.97%\n",
            "Test Loss: 2.1827, Test Accuracy: 65.66%\n",
            "Epoch 40/128, Loss: 0.1061, Accuracy: 96.29%\n",
            "Test Loss: 2.2616, Test Accuracy: 65.43%\n",
            "Epoch 41/128, Loss: 0.1079, Accuracy: 96.17%\n",
            "Test Loss: 2.3070, Test Accuracy: 65.50%\n",
            "Epoch 42/128, Loss: 0.1015, Accuracy: 96.33%\n",
            "Test Loss: 2.3415, Test Accuracy: 65.56%\n",
            "Epoch 43/128, Loss: 0.1004, Accuracy: 96.32%\n",
            "Test Loss: 2.3441, Test Accuracy: 65.58%\n",
            "Epoch 44/128, Loss: 0.0973, Accuracy: 96.50%\n",
            "Test Loss: 2.4279, Test Accuracy: 65.09%\n",
            "Epoch 45/128, Loss: 0.0953, Accuracy: 96.52%\n",
            "Test Loss: 2.4552, Test Accuracy: 65.42%\n",
            "Epoch 46/128, Loss: 0.0946, Accuracy: 96.61%\n",
            "Test Loss: 2.4328, Test Accuracy: 65.69%\n",
            "Epoch 47/128, Loss: 0.0906, Accuracy: 96.76%\n",
            "Test Loss: 2.4730, Test Accuracy: 65.58%\n",
            "Epoch 48/128, Loss: 0.0890, Accuracy: 96.91%\n",
            "Test Loss: 2.4863, Test Accuracy: 65.61%\n",
            "Epoch 49/128, Loss: 0.0893, Accuracy: 96.82%\n",
            "Test Loss: 2.5039, Test Accuracy: 65.43%\n",
            "Epoch 50/128, Loss: 0.0865, Accuracy: 96.91%\n",
            "Test Loss: 2.5573, Test Accuracy: 65.40%\n",
            "Epoch 51/128, Loss: 0.0807, Accuracy: 97.12%\n",
            "Test Loss: 2.6280, Test Accuracy: 65.85%\n",
            "Epoch 52/128, Loss: 0.0857, Accuracy: 96.95%\n",
            "Test Loss: 2.5929, Test Accuracy: 65.59%\n",
            "Epoch 53/128, Loss: 0.0802, Accuracy: 97.08%\n",
            "Test Loss: 2.6403, Test Accuracy: 65.01%\n"
          ]
        }
      ],
      "source": [
        "# 移動模型到指定設備（CPU或GPU）\n",
        "model = model.to(device)\n",
        "\n",
        "# 訓練函式\n",
        "def train(model, train_loader, optimizer, loss_fn, epoch):\n",
        "    model.train()  # 設置模型為訓練模式\n",
        "    running_loss = 0.0\n",
        "    correct = 0\n",
        "    total = 0\n",
        "\n",
        "    for inputs, targets in train_loader:\n",
        "        # 移動資料到指定設備\n",
        "        inputs, targets = inputs.to(device), targets.to(device)\n",
        "\n",
        "        # 清空梯度\n",
        "        optimizer.zero_grad()\n",
        "\n",
        "        # 前向傳播\n",
        "        outputs = model(inputs)\n",
        "\n",
        "        # 計算損失\n",
        "        loss = loss_fn(outputs, targets)\n",
        "\n",
        "        # 反向傳播和優化\n",
        "        loss.backward()\n",
        "        optimizer.step()\n",
        "\n",
        "        # 累積損失和準確度\n",
        "        running_loss += loss.item() * inputs.size(0)\n",
        "        _, predicted = outputs.max(1)\n",
        "        total += targets.size(0)\n",
        "        correct += predicted.eq(targets).sum().item()\n",
        "\n",
        "    epoch_loss = running_loss / total\n",
        "    accuracy = 100. * correct / total\n",
        "    print(f'Epoch {epoch+1}/{EPOCHS}, Loss: {epoch_loss:.4f}, Accuracy: {accuracy:.2f}%')\n",
        "\n",
        "# 測試函式\n",
        "def evaluate(model, test_loader, loss_fn):\n",
        "    model.eval()  # 設置模型為評估模式\n",
        "    running_loss = 0.0\n",
        "    correct = 0\n",
        "    total = 0\n",
        "\n",
        "    with torch.no_grad():  # 禁用梯度計算，加速和節省記憶體\n",
        "        for inputs, targets in test_loader:\n",
        "            # 移動資料到指定設備\n",
        "            inputs, targets = inputs.to(device), targets.to(device)\n",
        "\n",
        "            # 前向傳播\n",
        "            outputs = model(inputs)\n",
        "\n",
        "            # 計算損失\n",
        "            loss = loss_fn(outputs, targets)\n",
        "            running_loss += loss.item() * inputs.size(0)\n",
        "\n",
        "            # 計算準確度\n",
        "            _, predicted = outputs.max(1)\n",
        "            total += targets.size(0)\n",
        "            correct += predicted.eq(targets).sum().item()\n",
        "\n",
        "    epoch_loss = running_loss / total\n",
        "    accuracy = 100. * correct / total\n",
        "    print(f'Test Loss: {epoch_loss:.4f}, Test Accuracy: {accuracy:.2f}%')\n",
        "\n",
        "# 訓練和評估模型\n",
        "for epoch in range(EPOCHS):\n",
        "    train_loader = DataLoader(trainset, batch_size=BATCH_SIZE, shuffle=True)\n",
        "    test_loader = DataLoader(testset, batch_size=BATCH_SIZE, shuffle=False)\n",
        "\n",
        "    # 執行訓練\n",
        "    train(model, train_loader, optimizer, loss_fn, epoch)\n",
        "\n",
        "    # 執行測試\n",
        "    evaluate(model, test_loader, loss_fn)\n"
      ]
    }
  ],
  "metadata": {
    "colab": {
      "provenance": [],
      "authorship_tag": "ABX9TyOerD4pFi6wF0LX+6Qalter",
      "include_colab_link": true
    },
    "kernelspec": {
      "display_name": "Python 3",
      "name": "python3"
    },
    "language_info": {
      "name": "python"
    }
  },
  "nbformat": 4,
  "nbformat_minor": 0
}